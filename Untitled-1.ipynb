{
 "cells": [
  {
   "cell_type": "code",
   "execution_count": 7,
   "metadata": {},
   "outputs": [],
   "source": [
    "from support_code import *\n",
    "import numpy as np\n",
    "import matplotlib.pyplot as plt\n",
    "from scipy.stats import norm"
   ]
  },
  {
   "cell_type": "code",
   "execution_count": 8,
   "metadata": {},
   "outputs": [],
   "source": [
    "data = np.load('ct_data.npz')\n",
    "X_train = data['X_train']; X_val = data['X_val']; X_test = data['X_test']\n",
    "y_train = data['y_train']; y_val = data['y_val']; y_test = data['y_test']"
   ]
  },
  {
   "cell_type": "code",
   "execution_count": 9,
   "metadata": {},
   "outputs": [],
   "source": [
    "def fit_nn_cost(X, yy, alpha, init):\n",
    "    args = (X, yy, alpha)\n",
    "    ww, bb, V, bk = minimize_list(nn_cost, init, args)\n",
    "    return ww, bb, V, bk\n"
   ]
  },
  {
   "cell_type": "code",
   "execution_count": 10,
   "metadata": {},
   "outputs": [],
   "source": [
    "K =20"
   ]
  },
  {
   "cell_type": "code",
   "execution_count": 15,
   "metadata": {},
   "outputs": [
    {
     "data": {
      "text/plain": [
       "384"
      ]
     },
     "execution_count": 15,
     "metadata": {},
     "output_type": "execute_result"
    }
   ],
   "source": [
    "X_train[1].size"
   ]
  },
  {
   "cell_type": "code",
   "execution_count": null,
   "metadata": {},
   "outputs": [],
   "source": [
    "def xavier_init(input_features, shape):\n",
    "    np.random.seed(4)\n",
    "    std = np.sqrt(1 / input_features)\n",
    "    return np.random.randn(*shape) * std\n",
    "\n",
    "    \n",
    "input_features_V = X_train[1].size  \n",
    "V_init = xavier_init(input_features_V, (K, X_train[1].size))\n",
    "\n",
    "input_features_ww = K  \n",
    "ww_init = xavier_init(input_features_ww, (K,))\n",
    "\n",
    "bk_init = np.zeros(K)\n",
    "bb_init = np.array(0.0)\n",
    "\n",
    "params_init = [ww_init, bb_init, V_init, bk_init]"
   ]
  },
  {
   "cell_type": "code",
   "execution_count": 12,
   "metadata": {},
   "outputs": [],
   "source": [
    "def compute_rmse(y_true, y_val):\n",
    "    return np.sqrt(np.mean((y_true - y_val) ** 2))"
   ]
  },
  {
   "cell_type": "code",
   "execution_count": 13,
   "metadata": {},
   "outputs": [
    {
     "data": {
      "text/plain": [
       "0.2703385434346783"
      ]
     },
     "execution_count": 13,
     "metadata": {},
     "output_type": "execute_result"
    }
   ],
   "source": [
    "params_randinit = fit_nn_cost(X_train, y_train, 30, params_init)\n",
    "y_train_pred_nn_randinit = nn_cost(params_randinit , X_train)\n",
    "compute_rmse(y_train, y_train_pred_nn_randinit)\n",
    "y_val_pred_nn_randinit = nn_cost(params_randinit , X_val)\n",
    "baseline_val = compute_rmse(y_val, y_val_pred_nn_randinit)\n",
    "baseline_val"
   ]
  },
  {
   "cell_type": "code",
   "execution_count": 14,
   "metadata": {},
   "outputs": [
    {
     "name": "stdout",
     "output_type": "stream",
     "text": [
      "Iteration 1:\n",
      "Max PI: 0.3844 at alpha: 0.04\n",
      "Iteration 2:\n",
      "Max PI: 0.3803 at alpha: 1.46\n",
      "Iteration 3:\n",
      "Max PI: 0.3745 at alpha: 0.02\n",
      "Iteration 4:\n",
      "Max PI: 0.3724 at alpha: 0.06\n",
      "Iteration 5:\n",
      "Max PI: 0.3419 at alpha: 2.2600000000000002\n",
      "\n",
      "Best alpha found: 0.06\n",
      "Validation RMSE at best alpha: 0.25060759664239673\n",
      "Test RMSE at best alpha: 0.29430760817263607\n"
     ]
    }
   ],
   "source": [
    "def train_nn_reg(alpha, X_train, y_train, X_val, y_val, params_init = params_init):\n",
    "    # Trains NN from Q4 on a given alpha value, \n",
    "    # returns validation RMSE and optimised parameters\n",
    "    # Initialised with parameters of model a from Q4.\n",
    "    args_init = (X_train, y_train, alpha)\n",
    "    params_opt = minimize_list(nn_cost, params_init, args_init)\n",
    "\n",
    "    y_pred_val = nn_cost(params_opt, X_val)\n",
    "    val_rmse = compute_rmse(y_val, y_pred_val)\n",
    "\n",
    "    return val_rmse, params_opt\n",
    "\n",
    "def probability_of_improvement(mu, sigma, f_best):\n",
    "    Z = (mu - f_best) / sigma\n",
    "    PI = norm.cdf(Z)\n",
    "    return PI\n",
    "\n",
    "# Let up range of alphas and choose 3 distinct values to start with.\n",
    "alpha_values = np.arange(0, 50, 0.02)\n",
    "initial_alphas = (0.0, 25.0, 49.98)\n",
    "\n",
    "# Setup basic\n",
    "alpha_observed = []\n",
    "log_rmse_observed = []\n",
    "baseline_rmse = rmse_val_xavier = baseline_val\n",
    "\n",
    "for alpha in initial_alphas:\n",
    "    val_rmse, _ = train_nn_reg(alpha, X_train, y_train, X_val, y_val)\n",
    "    y_observed = np.log(baseline_rmse) - np.log(val_rmse)\n",
    "    log_rmse_observed.append(y_observed)\n",
    "    alpha_observed.append(alpha)\n",
    "\n",
    "X_obs = np.array(alpha_observed)\n",
    "yy = np.array(log_rmse_observed)\n",
    "X_rest = np.setdiff1d(alpha_values, alpha_observed)\n",
    "\n",
    "number_of_itterations = 5\n",
    "\n",
    "max_pi_values = []\n",
    "max_pi_alphas = []\n",
    "\n",
    "for iteration in range(number_of_itterations):\n",
    "\n",
    "    rest_cond_mu, rest_cond_cov = gp_post_par(\n",
    "        X_rest, X_obs, yy, sigma_y=0.05, ell=5.0, sigma_f=0.1\n",
    "    )\n",
    "\n",
    "    # Probability CDF of improvement for alpha values in X_rest\n",
    "    sigma_s = np.sqrt(np.diag(rest_cond_cov))\n",
    "    f_best = np.max(yy)\n",
    "    PI = probability_of_improvement(rest_cond_mu, sigma_s, f_best)\n",
    "\n",
    "    # Select alpha with highest probability of improvement\n",
    "    max_pi_idx = np.argmax(PI)\n",
    "    alpha_next = X_rest[max_pi_idx]\n",
    "    max_pi = PI[max_pi_idx]\n",
    "\n",
    "    max_pi_values.append(max_pi)\n",
    "    max_pi_alphas.append(alpha_next)\n",
    "\n",
    "    print(f\"Iteration {iteration + 1}:\")\n",
    "    print(f\"Max PI: {max_pi:.4f} at alpha: {alpha_next}\")\n",
    "\n",
    "    # Setup parameters for gp_post_par\n",
    "    val_rmse, _ = train_nn_reg(alpha_next, X_train, y_train, X_val, y_val)\n",
    "    y_next = np.log(baseline_rmse) - np.log(val_rmse)\n",
    "\n",
    "    alpha_observed.append(alpha_next)\n",
    "    log_rmse_observed.append(y_next)\n",
    "\n",
    "    X_obs = np.array(alpha_observed)\n",
    "    yy = np.array(log_rmse_observed)\n",
    "    X_rest = np.setdiff1d(X_rest, alpha_observed)\n",
    "\n",
    "best_idx = np.argmax(yy)\n",
    "best_alpha = X_obs[best_idx]\n",
    "\n",
    "best_val_rmse, best_params = train_nn_reg(best_alpha, X_train, y_train, X_val, y_val)\n",
    "y_pred_test = nn_cost(best_params, X_test)  \n",
    "test_rmse = compute_rmse(y_test, y_pred_test)  \n",
    "\n",
    "print(\"\\nBest alpha found:\", best_alpha)\n",
    "print(\"Validation RMSE at best alpha:\", best_val_rmse)\n",
    "print(\"Test RMSE at best alpha:\", test_rmse)"
   ]
  }
 ],
 "metadata": {
  "kernelspec": {
   "display_name": "Python 3",
   "language": "python",
   "name": "python3"
  },
  "language_info": {
   "codemirror_mode": {
    "name": "ipython",
    "version": 3
   },
   "file_extension": ".py",
   "mimetype": "text/x-python",
   "name": "python",
   "nbconvert_exporter": "python",
   "pygments_lexer": "ipython3",
   "version": "3.12.4"
  }
 },
 "nbformat": 4,
 "nbformat_minor": 2
}
